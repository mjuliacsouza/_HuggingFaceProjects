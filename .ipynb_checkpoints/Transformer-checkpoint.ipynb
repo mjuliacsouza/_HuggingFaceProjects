{
 "cells": [
  {
   "cell_type": "markdown",
   "metadata": {},
   "source": [
    "# Transfer Learning"
   ]
  },
  {
   "cell_type": "markdown",
   "metadata": {},
   "source": [
    "Transfer Learning is an act of initializing a model with another model's weights\n",
    "\n",
    "![Transfer_learning_diagram](transfer_learning.png)"
   ]
  },
  {
   "cell_type": "markdown",
   "metadata": {},
   "source": [
    "# Transformer architecture\n",
    "\n",
    "Is based on the attention mechanism"
   ]
  },
  {
   "cell_type": "markdown",
   "metadata": {},
   "source": [
    "![Transformer architecture](transformer.png)\n",
    "![Transformer architecture simple2](simple_transformer.png)"
   ]
  },
  {
   "cell_type": "markdown",
   "metadata": {},
   "source": [
    "## Encoders"
   ]
  },
  {
   "cell_type": "markdown",
   "metadata": {},
   "source": [
    "The encoder outputs a numerical representation of each word used as input\n",
    "\n",
    "![encoder](encoder.png)\n",
    "\n",
    "This representation is a made up of a vector of values for each word of the initial sequence. Each word of the initial sequence affects every word's representation (self-attention mechanism)\n",
    "\n",
    "Why would one use an encoder?\n",
    "\n",
    "- Bi-directional: context from the left and the right\n",
    "- Good at extracting meaningful information\n",
    "- Sequence classification, question answering, masked language modeling\n",
    "- NLU: Natural Language Understanding\n",
    "- Example of encoders: BERT, RoBERTa, AlBERT"
   ]
  },
  {
   "cell_type": "markdown",
   "metadata": {},
   "source": [
    "## Decoders\n",
    "The decoder outputs numerical representation from an initial sequence.\n",
    "\n",
    "![decoder](decoder.png)\n",
    "\n",
    "This feature tensor is a made up of a vector of values for each word of the initial sequence. Words can only see the words on their left side; the right side is hidden! The masked self-attention layer hides the values of context on the right.\n"
   ]
  }
 ],
 "metadata": {
  "kernelspec": {
   "display_name": "Python 3",
   "language": "python",
   "name": "python3"
  },
  "language_info": {
   "codemirror_mode": {
    "name": "ipython",
    "version": 3
   },
   "file_extension": ".py",
   "mimetype": "text/x-python",
   "name": "python",
   "nbconvert_exporter": "python",
   "pygments_lexer": "ipython3",
   "version": "3.8.5"
  }
 },
 "nbformat": 4,
 "nbformat_minor": 4
}
